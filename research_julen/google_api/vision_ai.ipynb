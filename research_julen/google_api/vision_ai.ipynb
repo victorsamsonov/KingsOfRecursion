{
 "cells": [
  {
   "cell_type": "code",
   "execution_count": 3,
   "metadata": {},
   "outputs": [
    {
     "ename": "ImportError",
     "evalue": "cannot import name 'types' from 'google.cloud.vision' (/Library/Frameworks/Python.framework/Versions/3.10/lib/python3.10/site-packages/google/cloud/vision/__init__.py)",
     "output_type": "error",
     "traceback": [
      "\u001b[0;31m---------------------------------------------------------------------------\u001b[0m",
      "\u001b[0;31mImportError\u001b[0m                               Traceback (most recent call last)",
      "\u001b[1;32m/Users/jferro/Desktop/work/repos/KingsOfRecursion/research_julen/real_time_emotions/Real-Time-Facial-Emotions-Detection-Model-using-a-Web-Interface/vision_ai.ipynb Cell 1\u001b[0m line \u001b[0;36m2\n\u001b[1;32m      <a href='vscode-notebook-cell:/Users/jferro/Desktop/work/repos/KingsOfRecursion/research_julen/real_time_emotions/Real-Time-Facial-Emotions-Detection-Model-using-a-Web-Interface/vision_ai.ipynb#W1sZmlsZQ%3D%3D?line=0'>1</a>\u001b[0m \u001b[39mfrom\u001b[39;00m \u001b[39mgoogle\u001b[39;00m\u001b[39m.\u001b[39;00m\u001b[39mcloud\u001b[39;00m \u001b[39mimport\u001b[39;00m vision\n\u001b[0;32m----> <a href='vscode-notebook-cell:/Users/jferro/Desktop/work/repos/KingsOfRecursion/research_julen/real_time_emotions/Real-Time-Facial-Emotions-Detection-Model-using-a-Web-Interface/vision_ai.ipynb#W1sZmlsZQ%3D%3D?line=1'>2</a>\u001b[0m \u001b[39mfrom\u001b[39;00m \u001b[39mgoogle\u001b[39;00m\u001b[39m.\u001b[39;00m\u001b[39mcloud\u001b[39;00m\u001b[39m.\u001b[39;00m\u001b[39mvision\u001b[39;00m \u001b[39mimport\u001b[39;00m types\n\u001b[1;32m      <a href='vscode-notebook-cell:/Users/jferro/Desktop/work/repos/KingsOfRecursion/research_julen/real_time_emotions/Real-Time-Facial-Emotions-Detection-Model-using-a-Web-Interface/vision_ai.ipynb#W1sZmlsZQ%3D%3D?line=3'>4</a>\u001b[0m \u001b[39m# Replace with your Google Cloud project and key file information\u001b[39;00m\n\u001b[1;32m      <a href='vscode-notebook-cell:/Users/jferro/Desktop/work/repos/KingsOfRecursion/research_julen/real_time_emotions/Real-Time-Facial-Emotions-Detection-Model-using-a-Web-Interface/vision_ai.ipynb#W1sZmlsZQ%3D%3D?line=4'>5</a>\u001b[0m project_id \u001b[39m=\u001b[39m \u001b[39m\"\u001b[39m\u001b[39myour-project-id\u001b[39m\u001b[39m\"\u001b[39m\n",
      "\u001b[0;31mImportError\u001b[0m: cannot import name 'types' from 'google.cloud.vision' (/Library/Frameworks/Python.framework/Versions/3.10/lib/python3.10/site-packages/google/cloud/vision/__init__.py)"
     ]
    }
   ],
   "source": [
    "from google.cloud import vision\n",
    "from google.cloud.vision import types\n",
    "\n",
    "# Replace with your Google Cloud project and key file information\n",
    "project_id = \"your-project-id\"\n",
    "key_file = \"path-to-your-service-account-key.json\"\n",
    "\n",
    "# Initialize the client\n",
    "client = vision.ImageAnnotatorClient.from_service_account_json(key_file)\n",
    "\n",
    "# Provide an image file to analyze\n",
    "image_path = \"path-to-your-image.jpg\"\n",
    "\n",
    "# Read the image file\n",
    "with open(image_path, 'rb') as image_file:\n",
    "    content = image_file.read()\n",
    "\n",
    "# Create a Vision API image object\n",
    "image = types.Image(content=content)\n",
    "\n",
    "# Perform image analysis\n",
    "response = client.label_detection(image=image)\n",
    "\n",
    "# Process the response\n",
    "labels = response.label_annotations\n",
    "for label in labels:\n",
    "    print(f\"Label: {label.description}, Score: {label.score}\")"
   ]
  },
  {
   "cell_type": "code",
   "execution_count": null,
   "metadata": {},
   "outputs": [],
   "source": []
  }
 ],
 "metadata": {
  "kernelspec": {
   "display_name": "Python 3",
   "language": "python",
   "name": "python3"
  },
  "language_info": {
   "codemirror_mode": {
    "name": "ipython",
    "version": 3
   },
   "file_extension": ".py",
   "mimetype": "text/x-python",
   "name": "python",
   "nbconvert_exporter": "python",
   "pygments_lexer": "ipython3",
   "version": "3.10.9"
  }
 },
 "nbformat": 4,
 "nbformat_minor": 2
}
